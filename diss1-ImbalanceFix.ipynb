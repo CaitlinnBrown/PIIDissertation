{
 "cells": [
  {
   "cell_type": "code",
   "execution_count": 109,
   "id": "bb3c6824",
   "metadata": {},
   "outputs": [],
   "source": [
    "import string\n",
    "import pandas as pd\n",
    "import numpy as np\n",
    "import nltk\n",
    "import contractions\n",
    "import re\n",
    "from nltk.corpus import stopwords\n",
    "from nltk.tokenize import word_tokenize\n",
    "\n",
    "from sklearn.feature_extraction.text import TfidfTransformer\n",
    "from sklearn.feature_extraction.text import TfidfVectorizer\n",
    "from sklearn.naive_bayes import MultinomialNB\n",
    "from sklearn.ensemble import RandomForestClassifier\n",
    "from sklearn import metrics\n",
    "from sklearn.metrics  import accuracy_score\n",
    "from sklearn.utils import shuffle\n",
    "\n",
    "import matplotlib.pyplot as plt\n",
    "import seaborn as sns\n",
    "\n",
    "import tensorflow as tf\n",
    "from tensorflow import keras\n",
    "import os\n",
    "\n",
    "import keras.backend as K\n",
    "\n",
    "from imblearn.over_sampling import RandomOverSampler \n",
    "from collections import Counter"
   ]
  },
  {
   "cell_type": "code",
   "execution_count": 110,
   "id": "6f61e197",
   "metadata": {},
   "outputs": [],
   "source": [
    "mydataset = pd.read_csv(\"finalDatasetSimplifiedNumerical.csv\")\n",
    "df = pd.DataFrame(data=mydataset)"
   ]
  },
  {
   "cell_type": "code",
   "execution_count": 111,
   "id": "92fb9ac5",
   "metadata": {},
   "outputs": [],
   "source": [
    "## Shuffle dataset to reducing variance and making sure that models remains\n",
    "## general and overfits less.\n",
    "\n",
    "df = shuffle(df)"
   ]
  },
  {
   "cell_type": "code",
   "execution_count": 112,
   "id": "8985a794",
   "metadata": {},
   "outputs": [],
   "source": [
    "def preprocess_text(text, flg_contracts=True, flg_stemm=False, flg_lemm=True, lst_stopwords=None):\n",
    "    ## clean - convert to lowercase and remove punctuations and\n",
    "    ## special characters and then strip\n",
    "    text = re.sub(r'[^\\w\\s]', '', str(text).lower().strip())\n",
    "\n",
    "    ## Convert from string to list\n",
    "    lst_text = text.split()\n",
    "    ## remove Stopwords\n",
    "    if lst_stopwords is not None:\n",
    "        lst_text = [word for word in lst_text if word not in\n",
    "                    lst_stopwords]\n",
    "\n",
    "    ## Open contractions\n",
    "    if flg_contracts == True:\n",
    "        lst_text = [contractions.fix(word) for word in lst_text]\n",
    "\n",
    "    ## Stemming (remove word stems e.g. -ing, -ly)\n",
    "    if flg_stemm == True:\n",
    "        ps = nltk.stem.porter.PorterStemmer()\n",
    "        lst_text = [ps.stem(word) for word in lst_text]\n",
    "\n",
    "    ## Lemmatisation (convert the word into root word)\n",
    "    if flg_lemm == True:\n",
    "        lem = nltk.stem.wordnet.WordNetLemmatizer()\n",
    "        lst_text = [lem.lemmatize(word) for word in lst_text]\n",
    "\n",
    "    ## back to string from list\n",
    "    text = \" \".join(lst_text)\n",
    "    return text\n",
    "\n",
    "lst_stopwords = nltk.corpus.stopwords.words(\"english\")\n",
    "\n",
    "df[\"text_clean\"] = df[\"text\"].apply(lambda x:\n",
    "          preprocess_text(x, flg_contracts=True, flg_stemm=False, flg_lemm=True,\n",
    "          lst_stopwords=lst_stopwords))"
   ]
  },
  {
   "cell_type": "code",
   "execution_count": 113,
   "id": "020f9298",
   "metadata": {},
   "outputs": [
    {
     "data": {
      "text/html": [
       "<div>\n",
       "<style scoped>\n",
       "    .dataframe tbody tr th:only-of-type {\n",
       "        vertical-align: middle;\n",
       "    }\n",
       "\n",
       "    .dataframe tbody tr th {\n",
       "        vertical-align: top;\n",
       "    }\n",
       "\n",
       "    .dataframe thead th {\n",
       "        text-align: right;\n",
       "    }\n",
       "</style>\n",
       "<table border=\"1\" class=\"dataframe\">\n",
       "  <thead>\n",
       "    <tr style=\"text-align: right;\">\n",
       "      <th></th>\n",
       "      <th>text</th>\n",
       "      <th>sentiment</th>\n",
       "      <th>text_clean</th>\n",
       "    </tr>\n",
       "  </thead>\n",
       "  <tbody>\n",
       "    <tr>\n",
       "      <th>4194</th>\n",
       "      <td>In: Dutton WH Peltu M ed. Society on the line:...</td>\n",
       "      <td>1</td>\n",
       "      <td>dutton wh peltu ed society line information co...</td>\n",
       "    </tr>\n",
       "    <tr>\n",
       "      <th>1247</th>\n",
       "      <td>The research portfolio includes studies with p...</td>\n",
       "      <td>0</td>\n",
       "      <td>research portfolio includes study patient heal...</td>\n",
       "    </tr>\n",
       "    <tr>\n",
       "      <th>6382</th>\n",
       "      <td>In: 57th ASH Annual Meeting 2015. 2015 Orlando...</td>\n",
       "      <td>1</td>\n",
       "      <td>57th ash annual meeting 2015 2015 orlando usa ...</td>\n",
       "    </tr>\n",
       "    <tr>\n",
       "      <th>8984</th>\n",
       "      <td>IMA Journal of Mathematical Control and Inform...</td>\n",
       "      <td>1</td>\n",
       "      <td>i am about to journal mathematical control inf...</td>\n",
       "    </tr>\n",
       "    <tr>\n",
       "      <th>7945</th>\n",
       "      <td>Here's a paper on some of our work - it shows ...</td>\n",
       "      <td>0</td>\n",
       "      <td>here is paper work show approach dramatically ...</td>\n",
       "    </tr>\n",
       "  </tbody>\n",
       "</table>\n",
       "</div>"
      ],
      "text/plain": [
       "                                                   text  sentiment  \\\n",
       "4194  In: Dutton WH Peltu M ed. Society on the line:...          1   \n",
       "1247  The research portfolio includes studies with p...          0   \n",
       "6382  In: 57th ASH Annual Meeting 2015. 2015 Orlando...          1   \n",
       "8984  IMA Journal of Mathematical Control and Inform...          1   \n",
       "7945  Here's a paper on some of our work - it shows ...          0   \n",
       "\n",
       "                                             text_clean  \n",
       "4194  dutton wh peltu ed society line information co...  \n",
       "1247  research portfolio includes study patient heal...  \n",
       "6382  57th ash annual meeting 2015 2015 orlando usa ...  \n",
       "8984  i am about to journal mathematical control inf...  \n",
       "7945  here is paper work show approach dramatically ...  "
      ]
     },
     "execution_count": 113,
     "metadata": {},
     "output_type": "execute_result"
    }
   ],
   "source": [
    "df.head()"
   ]
  },
  {
   "cell_type": "code",
   "execution_count": 114,
   "id": "d70f598e",
   "metadata": {},
   "outputs": [
    {
     "data": {
      "text/plain": [
       "text          0\n",
       "sentiment     0\n",
       "text_clean    0\n",
       "dtype: int64"
      ]
     },
     "execution_count": 114,
     "metadata": {},
     "output_type": "execute_result"
    }
   ],
   "source": [
    "## Check for null values\n",
    "df.isnull().sum()"
   ]
  },
  {
   "cell_type": "code",
   "execution_count": 115,
   "id": "2b58be74",
   "metadata": {},
   "outputs": [
    {
     "name": "stdout",
     "output_type": "stream",
     "text": [
      "1    7610\n",
      "0    2437\n",
      "Name: sentiment, dtype: int64\n"
     ]
    }
   ],
   "source": [
    "count = df['sentiment'].value_counts()\n",
    "print(count)"
   ]
  },
  {
   "cell_type": "code",
   "execution_count": 116,
   "id": "a8585255",
   "metadata": {},
   "outputs": [
    {
     "data": {
      "image/png": "[encoded data removed]",
      "text/plain": [
       "<Figure size 432x288 with 1 Axes>"
      ]
     },
     "metadata": {
      "needs_background": "light"
     },
     "output_type": "display_data"
    }
   ],
   "source": [
    "fig, ax = plt.subplots()\n",
    "fig.suptitle(\"Sentiment\", fontsize=12)\n",
    "df[\"sentiment\"].reset_index().groupby(\"sentiment\").count().sort_values(by= \n",
    "       \"index\").plot(kind=\"barh\", legend=False, \n",
    "        ax=ax).grid(axis='x')\n",
    "plt.ylabel('PII vs Not PII')\n",
    "plt.show()"
   ]
  },
  {
   "cell_type": "code",
   "execution_count": 117,
   "id": "a60a05fd",
   "metadata": {},
   "outputs": [],
   "source": [
    "## Split dataset into training and test set\n",
    "train_size = int(df.shape[0] * 0.7)\n",
    "\n",
    "train_df = df[:train_size]\n",
    "val_df = df[train_size:]\n",
    "\n",
    "## split text and labels\n",
    "train_sentences = train_df.text_clean.to_numpy()\n",
    "train_labels = train_df.sentiment.to_numpy()\n",
    "val_sentences = val_df.text_clean.to_numpy()\n",
    "val_labels = val_df.sentiment.to_numpy()"
   ]
  },
  {
   "cell_type": "code",
   "execution_count": 118,
   "id": "241f6bdb",
   "metadata": {},
   "outputs": [
    {
     "data": {
      "text/plain": [
       "((7032,), (3015,))"
      ]
     },
     "execution_count": 118,
     "metadata": {},
     "output_type": "execute_result"
    }
   ],
   "source": [
    "train_sentences.shape, val_sentences.shape"
   ]
  },
  {
   "cell_type": "code",
   "execution_count": 119,
   "id": "89e31854",
   "metadata": {},
   "outputs": [
    {
     "data": {
      "text/plain": [
       "Sentiment\n",
       "1            5346\n",
       "0            1686\n",
       "dtype: int64"
      ]
     },
     "execution_count": 119,
     "metadata": {},
     "output_type": "execute_result"
    }
   ],
   "source": [
    "## Amount of PII in train datasets\n",
    "yTrain_df = pd.DataFrame(train_labels, columns = ['Sentiment'])\n",
    "yTrain_df.value_counts()"
   ]
  },
  {
   "cell_type": "code",
   "execution_count": 120,
   "id": "f0bccd0f",
   "metadata": {},
   "outputs": [
    {
     "data": {
      "text/plain": [
       "Sentiment\n",
       "1            2264\n",
       "0             751\n",
       "dtype: int64"
      ]
     },
     "execution_count": 120,
     "metadata": {},
     "output_type": "execute_result"
    }
   ],
   "source": [
    "## Amount of PII in test datasets\n",
    "yVal_df = pd.DataFrame(val_labels, columns = ['Sentiment'])\n",
    "yVal_df.value_counts()"
   ]
  },
  {
   "cell_type": "code",
   "execution_count": 121,
   "id": "b1b2c79a",
   "metadata": {},
   "outputs": [],
   "source": [
    "## vectorsing using TF-IDF\n",
    "vectorizer = TfidfVectorizer()\n",
    "train_vectors = vectorizer.fit_transform(train_sentences)\n",
    "test_vectors = vectorizer.transform(val_sentences)"
   ]
  },
  {
   "cell_type": "code",
   "execution_count": 122,
   "id": "29f3289e",
   "metadata": {},
   "outputs": [],
   "source": [
    "ROS = RandomOverSampler(sampling_strategy=1)"
   ]
  },
  {
   "cell_type": "code",
   "execution_count": 123,
   "id": "2e29049d",
   "metadata": {},
   "outputs": [],
   "source": [
    "## Oversampling data to increase the minority class\n",
    "train_vectors_ros, train_labels_ros = ROS.fit_resample(train_vectors, train_labels)"
   ]
  },
  {
   "cell_type": "code",
   "execution_count": 124,
   "id": "4d52973e",
   "metadata": {},
   "outputs": [],
   "source": [
    "ros_yTrain = pd.DataFrame(train_labels_ros, columns = ['sentiment'])"
   ]
  },
  {
   "cell_type": "code",
   "execution_count": 125,
   "id": "fcd500a2",
   "metadata": {},
   "outputs": [
    {
     "data": {
      "text/plain": [
       "Counter({1: 5346, 0: 5346})"
      ]
     },
     "execution_count": 125,
     "metadata": {},
     "output_type": "execute_result"
    }
   ],
   "source": [
    "Counter(train_labels_ros)"
   ]
  },
  {
   "cell_type": "code",
   "execution_count": 126,
   "id": "40480443",
   "metadata": {},
   "outputs": [
    {
     "data": {
      "image/png": "[encoded data removed]",
      "text/plain": [
       "<Figure size 432x288 with 1 Axes>"
      ]
     },
     "metadata": {
      "needs_background": "light"
     },
     "output_type": "display_data"
    }
   ],
   "source": [
    "fig, ax = plt.subplots()\n",
    "fig.suptitle(\"ROS Training Data Sentiment\", fontsize=12)\n",
    "ros_yTrain[\"sentiment\"].reset_index().groupby(\"sentiment\").count().sort_values(by= \n",
    "       \"index\").plot(kind=\"barh\", legend=False, \n",
    "        ax=ax).grid(axis='x')\n",
    "plt.ylabel('PII vs Not PII')\n",
    "plt.show()"
   ]
  },
  {
   "cell_type": "code",
   "execution_count": 127,
   "id": "1cb23a39",
   "metadata": {},
   "outputs": [],
   "source": [
    "## Multinominal Naive Bayes\n",
    "\n",
    "## Train model\n",
    "mlb = MultinomialNB().fit(train_vectors_ros, train_labels_ros)\n",
    "\n",
    "## Predict training labels\n",
    "mlb_TrainPred = mlb.predict(train_vectors)\n",
    "mlb_TrainPred_prob = mlb.predict_proba(train_vectors)\n",
    "\n",
    "## Predict test labels \n",
    "mlb_predicted = mlb.predict(test_vectors)\n",
    "mlb_predicted_prob = mlb.predict_proba(test_vectors)"
   ]
  },
  {
   "cell_type": "code",
   "execution_count": 128,
   "id": "9169b7ef",
   "metadata": {},
   "outputs": [
    {
     "name": "stdout",
     "output_type": "stream",
     "text": [
      "Multinominal Naive Bayes Training accuracy\n",
      "0.925910125142207\n",
      "\n",
      "Multinominal Naive Bayes Validation accuracy\n",
      "0.8988391376451078\n"
     ]
    }
   ],
   "source": [
    "print(\"Multinominal Naive Bayes Training accuracy\")\n",
    "print(accuracy_score(train_labels, mlb_TrainPred))\n",
    "print()\n",
    "print(\"Multinominal Naive Bayes Validation accuracy\")\n",
    "print(accuracy_score(val_labels, mlb_predicted))"
   ]
  },
  {
   "cell_type": "code",
   "execution_count": 129,
   "id": "dfdcff2c",
   "metadata": {
    "scrolled": false
   },
   "outputs": [
    {
     "name": "stdout",
     "output_type": "stream",
     "text": [
      "Multinominal Naive Bayes Accuracy: 0.9\n",
      "Detail:\n",
      "              precision    recall  f1-score   support\n",
      "\n",
      "           0       0.75      0.90      0.82       751\n",
      "           1       0.97      0.90      0.93      2264\n",
      "\n",
      "    accuracy                           0.90      3015\n",
      "   macro avg       0.86      0.90      0.87      3015\n",
      "weighted avg       0.91      0.90      0.90      3015\n",
      "\n"
     ]
    },
    {
     "data": {
      "image/png": "[encoded data removed]",
      "text/plain": [
       "<Figure size 432x288 with 1 Axes>"
      ]
     },
     "metadata": {
      "needs_background": "light"
     },
     "output_type": "display_data"
    },
    {
     "data": {
      "image/png": "[encoded data removed]",
      "text/plain": [
       "<Figure size 432x288 with 2 Axes>"
      ]
     },
     "metadata": {
      "needs_background": "light"
     },
     "output_type": "display_data"
    }
   ],
   "source": [
    "##      Visualisations of evaluation metrics\n",
    "##      https://towardsdatascience.com/text-classification-with-nlp-tf-idf-vs-word2vec-vs-bert-41ff868d1794\n",
    "##      Original author - Mauro Di Pietro\n",
    "##      Modifying author - Caitlin Brown\n",
    "##      Date modified: 27/07/2022\n",
    "\n",
    "classes = np.unique(val_labels)\n",
    "y_test_array = pd.get_dummies(val_labels, drop_first=False).values\n",
    "\n",
    "## Accuracy, Precision, Recall\n",
    "accuracy = metrics.accuracy_score(val_labels, mlb_predicted)\n",
    "print(\"Multinominal Naive Bayes Accuracy:\",  round(accuracy,2))\n",
    "print(\"Detail:\")\n",
    "print(metrics.classification_report(val_labels, mlb_predicted))\n",
    "    \n",
    "## Plot confusion matrix\n",
    "cm = metrics.confusion_matrix(val_labels, mlb_predicted)\n",
    "fig, ax = plt.subplots()\n",
    "sns.heatmap(cm, annot=True, fmt='d', ax=ax, cmap=plt.cm.Blues, \n",
    "            cbar=False)\n",
    "ax.set(xlabel=\"Pred\", ylabel=\"True\", xticklabels=classes, \n",
    "       yticklabels=classes, title=\"Confusion matrix\")\n",
    "plt.yticks(rotation=0)\n",
    "fig, ax = plt.subplots(nrows=1, ncols=2)\n",
    "\n",
    "## Plot roc\n",
    "fpr, tpr, thresholds = metrics.roc_curve(y_test_array[::,1],  \n",
    "                        mlb_predicted_prob[::,1])\n",
    "ax[0].plot(fpr, tpr, lw=3, \n",
    "            label='{0} (area={1:0.2f})'.format(classes[:], \n",
    "                        metrics.auc(fpr, tpr))\n",
    "            )\n",
    "ax[0].plot([0,1], [0,1], color='navy', lw=3, linestyle='--')\n",
    "ax[0].set(xlim=[-0.05,1.0], ylim=[0.0,1.05], \n",
    "          xlabel='False Positive Rate', \n",
    "          ylabel=\"True Positive Rate (Recall)\", \n",
    "          title=\"Receiver operating characteristic\")\n",
    "ax[0].legend(loc=\"lower right\")\n",
    "ax[0].grid(True)\n",
    "    \n",
    "## Plot precision-recall curve\n",
    "precision, recall, thresholds = metrics.precision_recall_curve(\n",
    "                y_test_array[::,1], mlb_predicted_prob[::,1])\n",
    "ax[1].plot(recall, precision, lw=3, \n",
    "            label='{0} (area={1:0.2f})'.format(classes[:], \n",
    "                                metrics.auc(recall, precision))\n",
    "            )\n",
    "ax[1].set(xlim=[0.0,1.05], ylim=[0.0,1.05], xlabel='Recall', \n",
    "          ylabel=\"Precision\", title=\"Precision-Recall curve\")\n",
    "ax[1].legend(loc=\"best\")\n",
    "ax[1].grid(True)\n",
    "plt.show()"
   ]
  },
  {
   "cell_type": "code",
   "execution_count": 130,
   "id": "53312f39",
   "metadata": {},
   "outputs": [],
   "source": [
    "## Random Forest classifier \n",
    "\n",
    "## Train model\n",
    "RandomFC = RandomForestClassifier(n_estimators=100)\n",
    "RandomFC.fit(train_vectors_ros, train_labels_ros)\n",
    "\n",
    "## Predict training labels \n",
    "RdmFC_TrainPred = RandomFC.predict(train_vectors)\n",
    "RdmFC_TrainPred_prob = RandomFC.predict_proba(train_vectors)\n",
    "\n",
    "## Predict test labels \n",
    "RdmFC_predicted = RandomFC.predict(test_vectors)\n",
    "RdmFC_predicted_prob = RandomFC.predict_proba(test_vectors)"
   ]
  },
  {
   "cell_type": "code",
   "execution_count": 131,
   "id": "725f47b0",
   "metadata": {},
   "outputs": [
    {
     "name": "stdout",
     "output_type": "stream",
     "text": [
      "Random Forest Training accuracy\n",
      "0.999004550625711\n",
      "\n",
      "Random Forest Validation accuracy\n",
      "0.9333333333333333\n"
     ]
    }
   ],
   "source": [
    "print(\"Random Forest Training accuracy\")\n",
    "print(accuracy_score(train_labels, RdmFC_TrainPred))\n",
    "print()\n",
    "print(\"Random Forest Validation accuracy\")\n",
    "print(accuracy_score(val_labels, RdmFC_predicted))"
   ]
  },
  {
   "cell_type": "code",
   "execution_count": 132,
   "id": "0027634e",
   "metadata": {
    "scrolled": false
   },
   "outputs": [
    {
     "name": "stdout",
     "output_type": "stream",
     "text": [
      "Random Forest Accuracy: 0.93\n",
      "Detail:\n",
      "              precision    recall  f1-score   support\n",
      "\n",
      "           0       0.84      0.90      0.87       751\n",
      "           1       0.97      0.94      0.96      2264\n",
      "\n",
      "    accuracy                           0.93      3015\n",
      "   macro avg       0.90      0.92      0.91      3015\n",
      "weighted avg       0.94      0.93      0.93      3015\n",
      "\n"
     ]
    },
    {
     "data": {
      "image/png": "[encoded data removed]",
      "text/plain": [
       "<Figure size 432x288 with 1 Axes>"
      ]
     },
     "metadata": {
      "needs_background": "light"
     },
     "output_type": "display_data"
    },
    {
     "data": {
      "image/png": "[encoded data removed]",
      "text/plain": [
       "<Figure size 432x288 with 2 Axes>"
      ]
     },
     "metadata": {
      "needs_background": "light"
     },
     "output_type": "display_data"
    }
   ],
   "source": [
    "##      Visualisations of evaluation metrics\n",
    "##      https://towardsdatascience.com/text-classification-with-nlp-tf-idf-vs-word2vec-vs-bert-41ff868d1794\n",
    "##      Original author - Mauro Di Pietro\n",
    "##      Modifying author - Caitlin Brown\n",
    "##      Date modified: 27/07/2022\n",
    "\n",
    "classes = np.unique(val_labels)\n",
    "y_test_array = pd.get_dummies(val_labels, drop_first=False).values\n",
    "    \n",
    "## Accuracy, Precision, Recall\n",
    "accuracy = metrics.accuracy_score(val_labels, RdmFC_predicted)\n",
    "print(\"Random Forest Accuracy:\",  round(accuracy,2))\n",
    "print(\"Detail:\")\n",
    "print(metrics.classification_report(val_labels, RdmFC_predicted))\n",
    "    \n",
    "## Plot confusion matrix\n",
    "cm = metrics.confusion_matrix(val_labels, RdmFC_predicted)\n",
    "fig, ax = plt.subplots()\n",
    "sns.heatmap(cm, annot=True, fmt='d', ax=ax, cmap=plt.cm.Blues, \n",
    "            cbar=False)\n",
    "ax.set(xlabel=\"Pred\", ylabel=\"True\", xticklabels=classes, \n",
    "       yticklabels=classes, title=\"Confusion matrix\")\n",
    "plt.yticks(rotation=0)\n",
    "fig, ax = plt.subplots(nrows=1, ncols=2)\n",
    "\n",
    "## Plot roc\n",
    "fpr, tpr, thresholds = metrics.roc_curve(y_test_array[::,1],  \n",
    "                        RdmFC_predicted_prob[::,1])\n",
    "ax[0].plot(fpr, tpr, lw=3, \n",
    "            label='{0} (area={1:0.2f})'.format(classes[:], \n",
    "                            metrics.auc(fpr, tpr))\n",
    "            )\n",
    "ax[0].plot([0,1], [0,1], color='navy', lw=3, linestyle='--')\n",
    "ax[0].set(xlim=[-0.05,1.0], ylim=[0.0,1.05], \n",
    "          xlabel='False Positive Rate', \n",
    "          ylabel=\"True Positive Rate (Recall)\", \n",
    "          title=\"Receiver operating characteristic\")\n",
    "ax[0].legend(loc=\"lower right\")\n",
    "ax[0].grid(True)\n",
    "    \n",
    "## Plot precision-recall curve\n",
    "precision, recall, thresholds = metrics.precision_recall_curve(\n",
    "                y_test_array[::,1], RdmFC_predicted_prob[::,1])\n",
    "ax[1].plot(recall, precision, lw=3, \n",
    "            label='{0} (area={1:0.2f})'.format(classes[:], \n",
    "                                  metrics.auc(recall, precision))\n",
    "              )\n",
    "ax[1].set(xlim=[0.0,1.05], ylim=[0.0,1.05], xlabel='Recall', \n",
    "          ylabel=\"Precision\", title=\"Precision-Recall curve\")\n",
    "ax[1].legend(loc=\"best\")\n",
    "ax[1].grid(True)\n",
    "plt.show()"
   ]
  },
  {
   "cell_type": "code",
   "execution_count": 133,
   "id": "3d174a7d",
   "metadata": {},
   "outputs": [],
   "source": [
    "## LSTM"
   ]
  },
  {
   "cell_type": "code",
   "execution_count": 134,
   "id": "23b8325f",
   "metadata": {},
   "outputs": [],
   "source": [
    "from collections import Counter\n",
    "\n",
    "## Count unique words\n",
    "def counter_word(text_col):\n",
    "    count = Counter()\n",
    "    for text in text_col.values:\n",
    "        for word in text.split():\n",
    "            count[word] += 1\n",
    "    return count\n",
    "\n",
    "counter = counter_word(df['text_clean'])"
   ]
  },
  {
   "cell_type": "code",
   "execution_count": 135,
   "id": "d98d91af",
   "metadata": {},
   "outputs": [
    {
     "data": {
      "text/plain": [
       "28440"
      ]
     },
     "execution_count": 135,
     "metadata": {},
     "output_type": "execute_result"
    }
   ],
   "source": [
    "len(counter)"
   ]
  },
  {
   "cell_type": "code",
   "execution_count": 136,
   "id": "80ca35c8",
   "metadata": {},
   "outputs": [
    {
     "data": {
      "text/plain": [
       "[('j', 2622),\n",
       " ('r', 1710),\n",
       " ('c', 1530),\n",
       " ('p', 1373),\n",
       " ('university', 1182),\n",
       " ('journal', 1170),\n",
       " ('research', 1164),\n",
       " ('l', 943),\n",
       " ('study', 937),\n",
       " ('international', 870)]"
      ]
     },
     "execution_count": 136,
     "metadata": {},
     "output_type": "execute_result"
    }
   ],
   "source": [
    "counter.most_common(10)"
   ]
  },
  {
   "cell_type": "code",
   "execution_count": 137,
   "id": "8cd30e26",
   "metadata": {},
   "outputs": [],
   "source": [
    "num_unique_words = len(counter)"
   ]
  },
  {
   "cell_type": "code",
   "execution_count": 138,
   "id": "e71bf849",
   "metadata": {},
   "outputs": [],
   "source": [
    "## Count longest sentence\n",
    "\n",
    "word_count = lambda sentence: len(word_tokenize(sentence))\n",
    "longest_sentence = max(df['text_clean'], key=word_count)\n",
    "length_long_sentence = len(word_tokenize(longest_sentence))"
   ]
  },
  {
   "cell_type": "code",
   "execution_count": 139,
   "id": "b284dbca",
   "metadata": {},
   "outputs": [
    {
     "name": "stdout",
     "output_type": "stream",
     "text": [
      "318\n"
     ]
    }
   ],
   "source": [
    "print(length_long_sentence)"
   ]
  },
  {
   "cell_type": "code",
   "execution_count": 140,
   "id": "1a8c1511",
   "metadata": {},
   "outputs": [],
   "source": [
    "from tensorflow.keras.preprocessing.text import Tokenizer\n",
    "\n",
    "## Vectorize the text by turning each text into a sequence of integers\n",
    "tokenizer = Tokenizer(num_words=num_unique_words)\n",
    "tokenizer.fit_on_texts(train_sentences) "
   ]
  },
  {
   "cell_type": "code",
   "execution_count": 141,
   "id": "dbe8c399",
   "metadata": {},
   "outputs": [],
   "source": [
    "## Unique index for each word\n",
    "word_index = tokenizer.word_index"
   ]
  },
  {
   "cell_type": "code",
   "execution_count": 142,
   "id": "911c9a45",
   "metadata": {},
   "outputs": [],
   "source": [
    "## Convert text to a unique sequence\n",
    "train_sequences = tokenizer.texts_to_sequences(train_sentences)\n",
    "val_sequences = tokenizer.texts_to_sequences(val_sentences)"
   ]
  },
  {
   "cell_type": "code",
   "execution_count": 143,
   "id": "28bd1d0f",
   "metadata": {
    "scrolled": false
   },
   "outputs": [
    {
     "name": "stdout",
     "output_type": "stream",
     "text": [
      "['journal epidemiology community health 2007 617 571574 dahlberg l bambra c demack age gender informal carers populationbased study uk'\n",
      " 'education training'\n",
      " 'use whole genome data investigate contrasting role vertical horizontal inheritance including gene endosymbiotic origin shaping eukaryotic genome'\n",
      " 'mres module mmb8016 molecular microbiology'\n",
      " 'july 1999 paper entitled family policy reconstructing fatherhood law society association annual meeting'\n",
      " 'emerald publishing limited 2022 laing k todd l using collaborative theory change approach evaluating outofschool learning'\n",
      " 'group identifying predictor dementia parkinson disease supported programme grant parkinson uk identify people parkinson disease high risk incident dementia iciclepd'\n",
      " 'sage 2010 pain r panelli r little j kindon moment everydaydistant geopolitics young people fear hope'\n",
      " 'home u'\n",
      " 'journal membrane science 2020 600 117855 kousi k neagu bekris l papaioannou ei metcalfe endogenous nanoparticles strain perovskite host lattice providing oxygen capacity driving oxygen exchange ch4 conversion syngas']\n",
      "[[7, 466, 95, 14, 76, 12576, 12577, 12578, 9, 78, 3, 12579, 317, 89, 4513, 2481, 1433, 8, 27], [133, 774], [371, 3668, 1000, 256, 3134, 4514, 136, 12580, 7713, 5017, 510, 138, 12581, 951, 2167, 3233, 1000], [5673, 408, 12582, 125, 156], [815, 160, 110, 241, 64, 46, 3406, 454, 28, 25, 63, 122, 120], [2438, 411, 2506, 453, 770, 12, 189, 9, 75, 658, 197, 123, 288, 1322, 2437, 399], [86, 1655, 2153, 117, 51, 31, 1274, 212, 457, 51, 27, 2284, 70, 51, 31, 483, 234, 1253, 117, 1290], [439, 59, 202, 2, 5674, 2, 2075, 1, 3350, 4231, 7714, 1216, 144, 70, 655, 1494], [490, 608], [7, 621, 17, 96, 12583, 12584, 3677, 12, 2516, 7666, 9, 1986, 2401, 205, 5675, 2687, 1056, 2948, 2452, 12585, 3234, 1276, 2019, 5676, 1276, 1346, 7669, 1080, 4392]]\n"
     ]
    }
   ],
   "source": [
    "## Comparison of 5 of the original sentences with their sequences \n",
    "print(train_sentences[1500:1510])\n",
    "print(train_sequences[1500:1510])"
   ]
  },
  {
   "cell_type": "code",
   "execution_count": 144,
   "id": "30353ab5",
   "metadata": {},
   "outputs": [
    {
     "data": {
      "text/plain": [
       "((7032, 100), (3015, 100))"
      ]
     },
     "execution_count": 144,
     "metadata": {},
     "output_type": "execute_result"
    }
   ],
   "source": [
    "from tensorflow.keras.preprocessing.sequence import pad_sequences\n",
    "\n",
    "## Max number of words in a sequence\n",
    "max_length = 100\n",
    "\n",
    "## Pad the sequences to have the same length\n",
    "train_padded = pad_sequences(train_sequences, maxlen=max_length, padding=\"post\", truncating=\"post\")\n",
    "val_padded = pad_sequences(val_sequences, maxlen=max_length, padding=\"post\", truncating=\"post\")\n",
    "train_padded.shape, val_padded.shape"
   ]
  },
  {
   "cell_type": "code",
   "execution_count": 145,
   "id": "2ea8f306",
   "metadata": {},
   "outputs": [
    {
     "data": {
      "text/plain": [
       "array([133, 774,   0,   0,   0,   0,   0,   0,   0,   0,   0,   0,   0,\n",
       "         0,   0,   0,   0,   0,   0,   0,   0,   0,   0,   0,   0,   0,\n",
       "         0,   0,   0,   0,   0,   0,   0,   0,   0,   0,   0,   0,   0,\n",
       "         0,   0,   0,   0,   0,   0,   0,   0,   0,   0,   0,   0,   0,\n",
       "         0,   0,   0,   0,   0,   0,   0,   0,   0,   0,   0,   0,   0,\n",
       "         0,   0,   0,   0,   0,   0,   0,   0,   0,   0,   0,   0,   0,\n",
       "         0,   0,   0,   0,   0,   0,   0,   0,   0,   0,   0,   0,   0,\n",
       "         0,   0,   0,   0,   0,   0,   0,   0,   0])"
      ]
     },
     "execution_count": 145,
     "metadata": {},
     "output_type": "execute_result"
    }
   ],
   "source": [
    "## Print a sample of the data with zeros used as padding \n",
    "train_padded[1505]"
   ]
  },
  {
   "cell_type": "code",
   "execution_count": 146,
   "id": "32380da9",
   "metadata": {},
   "outputs": [
    {
     "name": "stdout",
     "output_type": "stream",
     "text": [
      "education training\n",
      "[133, 774]\n",
      "[133 774   0   0   0   0   0   0   0   0   0   0   0   0   0   0   0   0\n",
      "   0   0   0   0   0   0   0   0   0   0   0   0   0   0   0   0   0   0\n",
      "   0   0   0   0   0   0   0   0   0   0   0   0   0   0   0   0   0   0\n",
      "   0   0   0   0   0   0   0   0   0   0   0   0   0   0   0   0   0   0\n",
      "   0   0   0   0   0   0   0   0   0   0   0   0   0   0   0   0   0   0\n",
      "   0   0   0   0   0   0   0   0   0   0]\n"
     ]
    }
   ],
   "source": [
    "## Comparison of the same entry as a sentence, sequence and padded \n",
    "print(train_sentences[1501])\n",
    "print(train_sequences[1501])\n",
    "print(train_padded[1501])"
   ]
  },
  {
   "cell_type": "code",
   "execution_count": 147,
   "id": "aaede37e",
   "metadata": {},
   "outputs": [],
   "source": [
    "## Check reversing the indices\n",
    "reverse_word_index = dict([(idx, word) for (word, idx) in word_index.items()])"
   ]
  },
  {
   "cell_type": "code",
   "execution_count": 148,
   "id": "55c31308",
   "metadata": {},
   "outputs": [],
   "source": [
    "# reverse_word_index"
   ]
  },
  {
   "cell_type": "code",
   "execution_count": 149,
   "id": "4ff24433",
   "metadata": {},
   "outputs": [],
   "source": [
    "## Decode function takes in sequence and returns it's original text value,\n",
    "## if unavailable returns ? \n",
    "\n",
    "def decode(sequence):\n",
    "    return \" \".join([reverse_word_index.get(idx, \"?\") for idx in sequence])"
   ]
  },
  {
   "cell_type": "code",
   "execution_count": 150,
   "id": "e1163312",
   "metadata": {},
   "outputs": [
    {
     "name": "stdout",
     "output_type": "stream",
     "text": [
      "[133, 774]\n",
      "education training\n"
     ]
    }
   ],
   "source": [
    "decoded_text = decode(train_sequences[1501])\n",
    "\n",
    "print(train_sequences[1501])\n",
    "print(decoded_text)"
   ]
  },
  {
   "cell_type": "code",
   "execution_count": 151,
   "id": "d11e28f5",
   "metadata": {},
   "outputs": [],
   "source": [
    "## Oversampling data to increase the minority class\n",
    "train_padded_ros, train_labels_ros = ROS.fit_resample(train_padded, train_labels)"
   ]
  },
  {
   "cell_type": "code",
   "execution_count": 152,
   "id": "497a542b",
   "metadata": {},
   "outputs": [
    {
     "data": {
      "text/plain": [
       "Counter({1: 5346, 0: 5346})"
      ]
     },
     "execution_count": 152,
     "metadata": {},
     "output_type": "execute_result"
    }
   ],
   "source": [
    "Counter(train_labels_ros)"
   ]
  },
  {
   "cell_type": "code",
   "execution_count": 153,
   "id": "d54661a0",
   "metadata": {},
   "outputs": [
    {
     "name": "stdout",
     "output_type": "stream",
     "text": [
      "Model: \"sequential_2\"\n",
      "_________________________________________________________________\n",
      " Layer (type)                Output Shape              Param #   \n",
      "=================================================================\n",
      " embedding_2 (Embedding)     (None, 100, 32)           910080    \n",
      "                                                                 \n",
      " lstm_2 (LSTM)               (None, 64)                24832     \n",
      "                                                                 \n",
      " dense_2 (Dense)             (None, 1)                 65        \n",
      "                                                                 \n",
      "=================================================================\n",
      "Total params: 934,977\n",
      "Trainable params: 934,977\n",
      "Non-trainable params: 0\n",
      "_________________________________________________________________\n"
     ]
    }
   ],
   "source": [
    "## Create LSTM model\n",
    "from tensorflow.keras import layers\n",
    "\n",
    "## Create sequential model\n",
    "model = keras.models.Sequential()\n",
    "## Params: number of unique words, size, maximum length of sequence \n",
    "model.add(layers.Embedding(num_unique_words, 32, input_length=max_length))\n",
    "\n",
    "## The layer will take as input an integer matrix of size (batch, input_length),\n",
    "## and the largest integer (i.e. word index) in the input should be no larger than num_words.\n",
    "\n",
    "## Params: number of output units, dropout = 10%\n",
    "model.add(layers.LSTM(64, dropout=0.1))\n",
    "\n",
    "## Dense layer - 1 output at the end, sigmoid function\n",
    "model.add(layers.Dense(1, activation=\"sigmoid\"))\n",
    "\n",
    "model.summary()"
   ]
  },
  {
   "cell_type": "code",
   "execution_count": 154,
   "id": "f6bd73f5",
   "metadata": {},
   "outputs": [],
   "source": [
    "loss = keras.losses.BinaryCrossentropy(from_logits=False)\n",
    "## Optimiser \n",
    "optim = keras.optimizers.Adam(learning_rate=0.001)\n",
    "metrics = [\"accuracy\"]\n",
    "\n",
    "## Configure the model for training\n",
    "model.compile(loss=loss, optimizer=optim, metrics=metrics)"
   ]
  },
  {
   "cell_type": "code",
   "execution_count": 155,
   "id": "6f954961",
   "metadata": {
    "scrolled": false
   },
   "outputs": [
    {
     "name": "stdout",
     "output_type": "stream",
     "text": [
      "Epoch 1/70\n",
      "335/335 - 13s - loss: 0.6934 - accuracy: 0.5002 - val_loss: 0.6852 - val_accuracy: 0.7509 - 13s/epoch - 39ms/step\n",
      "Epoch 2/70\n",
      "335/335 - 10s - loss: 0.6933 - accuracy: 0.4957 - val_loss: 0.6842 - val_accuracy: 0.7509 - 10s/epoch - 31ms/step\n",
      "Epoch 3/70\n",
      "335/335 - 10s - loss: 0.6930 - accuracy: 0.5036 - val_loss: 0.7064 - val_accuracy: 0.2517 - 10s/epoch - 31ms/step\n",
      "Epoch 4/70\n",
      "335/335 - 10s - loss: 0.6121 - accuracy: 0.6467 - val_loss: 0.6167 - val_accuracy: 0.8312 - 10s/epoch - 31ms/step\n",
      "Epoch 5/70\n",
      "335/335 - 11s - loss: 0.5570 - accuracy: 0.7142 - val_loss: 0.5320 - val_accuracy: 0.8345 - 11s/epoch - 33ms/step\n",
      "Epoch 6/70\n",
      "335/335 - 11s - loss: 0.5460 - accuracy: 0.7230 - val_loss: 0.5249 - val_accuracy: 0.8352 - 11s/epoch - 32ms/step\n",
      "Epoch 7/70\n",
      "335/335 - 11s - loss: 0.5356 - accuracy: 0.7331 - val_loss: 0.5368 - val_accuracy: 0.8401 - 11s/epoch - 32ms/step\n",
      "Epoch 8/70\n",
      "335/335 - 11s - loss: 0.5245 - accuracy: 0.7435 - val_loss: 0.4956 - val_accuracy: 0.8478 - 11s/epoch - 33ms/step\n",
      "Epoch 9/70\n",
      "335/335 - 11s - loss: 0.5156 - accuracy: 0.7535 - val_loss: 0.5242 - val_accuracy: 0.8507 - 11s/epoch - 32ms/step\n",
      "Epoch 10/70\n",
      "335/335 - 11s - loss: 0.5111 - accuracy: 0.7558 - val_loss: 0.5346 - val_accuracy: 0.8484 - 11s/epoch - 32ms/step\n",
      "Epoch 11/70\n",
      "335/335 - 11s - loss: 0.5053 - accuracy: 0.7629 - val_loss: 0.5136 - val_accuracy: 0.8507 - 11s/epoch - 33ms/step\n",
      "Epoch 12/70\n",
      "335/335 - 11s - loss: 0.4806 - accuracy: 0.7991 - val_loss: 0.4559 - val_accuracy: 0.8600 - 11s/epoch - 33ms/step\n",
      "Epoch 13/70\n",
      "335/335 - 11s - loss: 0.4626 - accuracy: 0.8188 - val_loss: 0.4451 - val_accuracy: 0.8720 - 11s/epoch - 33ms/step\n",
      "Epoch 14/70\n",
      "335/335 - 11s - loss: 0.4422 - accuracy: 0.8312 - val_loss: 0.4212 - val_accuracy: 0.8736 - 11s/epoch - 32ms/step\n",
      "Epoch 15/70\n",
      "335/335 - 11s - loss: 0.4356 - accuracy: 0.8343 - val_loss: 0.4401 - val_accuracy: 0.8763 - 11s/epoch - 32ms/step\n",
      "Epoch 16/70\n",
      "335/335 - 11s - loss: 0.4307 - accuracy: 0.8396 - val_loss: 0.3984 - val_accuracy: 0.8826 - 11s/epoch - 34ms/step\n",
      "Epoch 17/70\n",
      "335/335 - 11s - loss: 0.4175 - accuracy: 0.8489 - val_loss: 0.3950 - val_accuracy: 0.8833 - 11s/epoch - 33ms/step\n",
      "Epoch 18/70\n",
      "335/335 - 11s - loss: 0.4136 - accuracy: 0.8504 - val_loss: 0.4006 - val_accuracy: 0.8846 - 11s/epoch - 32ms/step\n",
      "Epoch 19/70\n",
      "335/335 - 11s - loss: 0.4031 - accuracy: 0.8562 - val_loss: 0.3858 - val_accuracy: 0.8839 - 11s/epoch - 32ms/step\n",
      "Epoch 20/70\n",
      "335/335 - 11s - loss: 0.4027 - accuracy: 0.8560 - val_loss: 0.4027 - val_accuracy: 0.8829 - 11s/epoch - 32ms/step\n",
      "Epoch 21/70\n",
      "335/335 - 11s - loss: 0.4008 - accuracy: 0.8567 - val_loss: 0.4070 - val_accuracy: 0.8846 - 11s/epoch - 32ms/step\n",
      "Epoch 22/70\n",
      "335/335 - 11s - loss: 0.4041 - accuracy: 0.8546 - val_loss: 0.4032 - val_accuracy: 0.8829 - 11s/epoch - 32ms/step\n",
      "Epoch 23/70\n",
      "335/335 - 11s - loss: 0.4707 - accuracy: 0.8158 - val_loss: 0.4795 - val_accuracy: 0.8335 - 11s/epoch - 32ms/step\n",
      "Epoch 24/70\n",
      "335/335 - 12s - loss: 0.4856 - accuracy: 0.8085 - val_loss: 0.4827 - val_accuracy: 0.8371 - 12s/epoch - 35ms/step\n",
      "Epoch 25/70\n",
      "335/335 - 12s - loss: 0.4826 - accuracy: 0.8100 - val_loss: 0.4763 - val_accuracy: 0.8352 - 12s/epoch - 36ms/step\n",
      "Epoch 26/70\n",
      "335/335 - 11s - loss: 0.4795 - accuracy: 0.8114 - val_loss: 0.4786 - val_accuracy: 0.8368 - 11s/epoch - 31ms/step\n",
      "Epoch 27/70\n",
      "335/335 - 11s - loss: 0.4870 - accuracy: 0.8056 - val_loss: 0.4977 - val_accuracy: 0.8325 - 11s/epoch - 32ms/step\n",
      "Epoch 28/70\n",
      "335/335 - 11s - loss: 0.5027 - accuracy: 0.7938 - val_loss: 0.4713 - val_accuracy: 0.8484 - 11s/epoch - 32ms/step\n",
      "Epoch 29/70\n",
      "335/335 - 11s - loss: 0.4914 - accuracy: 0.7930 - val_loss: 0.4910 - val_accuracy: 0.8507 - 11s/epoch - 32ms/step\n",
      "Epoch 30/70\n",
      "335/335 - 11s - loss: 0.4882 - accuracy: 0.7940 - val_loss: 0.4901 - val_accuracy: 0.8501 - 11s/epoch - 32ms/step\n",
      "Epoch 31/70\n",
      "335/335 - 11s - loss: 0.4840 - accuracy: 0.7966 - val_loss: 0.4735 - val_accuracy: 0.8531 - 11s/epoch - 32ms/step\n",
      "Epoch 32/70\n",
      "335/335 - 10s - loss: 0.4840 - accuracy: 0.7965 - val_loss: 0.4922 - val_accuracy: 0.8524 - 10s/epoch - 31ms/step\n",
      "Epoch 33/70\n",
      "335/335 - 11s - loss: 0.4769 - accuracy: 0.8022 - val_loss: 0.4652 - val_accuracy: 0.8587 - 11s/epoch - 32ms/step\n",
      "Epoch 34/70\n",
      "335/335 - 11s - loss: 0.4668 - accuracy: 0.8065 - val_loss: 0.5663 - val_accuracy: 0.8590 - 11s/epoch - 31ms/step\n",
      "Epoch 35/70\n",
      "335/335 - 10s - loss: 0.4363 - accuracy: 0.8433 - val_loss: 0.4112 - val_accuracy: 0.8673 - 10s/epoch - 31ms/step\n",
      "Epoch 36/70\n",
      "335/335 - 10s - loss: 0.4281 - accuracy: 0.8458 - val_loss: 0.4034 - val_accuracy: 0.8680 - 10s/epoch - 31ms/step\n",
      "Epoch 37/70\n",
      "335/335 - 10s - loss: 0.4206 - accuracy: 0.8503 - val_loss: 0.4148 - val_accuracy: 0.8690 - 10s/epoch - 31ms/step\n",
      "Epoch 38/70\n",
      "335/335 - 11s - loss: 0.4318 - accuracy: 0.8403 - val_loss: 0.4672 - val_accuracy: 0.8484 - 11s/epoch - 32ms/step\n",
      "Epoch 39/70\n",
      "335/335 - 11s - loss: 0.3265 - accuracy: 0.8628 - val_loss: 0.2387 - val_accuracy: 0.9038 - 11s/epoch - 32ms/step\n",
      "Epoch 40/70\n",
      "335/335 - 10s - loss: 0.1906 - accuracy: 0.9406 - val_loss: 0.2466 - val_accuracy: 0.9141 - 10s/epoch - 31ms/step\n",
      "Epoch 41/70\n",
      "335/335 - 10s - loss: 0.1457 - accuracy: 0.9562 - val_loss: 0.2517 - val_accuracy: 0.9174 - 10s/epoch - 31ms/step\n",
      "Epoch 42/70\n",
      "335/335 - 10s - loss: 0.1155 - accuracy: 0.9686 - val_loss: 0.2647 - val_accuracy: 0.9187 - 10s/epoch - 31ms/step\n",
      "Epoch 43/70\n",
      "335/335 - 10s - loss: 0.1044 - accuracy: 0.9728 - val_loss: 0.2609 - val_accuracy: 0.9191 - 10s/epoch - 31ms/step\n",
      "Epoch 44/70\n",
      "335/335 - 10s - loss: 0.1067 - accuracy: 0.9730 - val_loss: 0.2736 - val_accuracy: 0.9201 - 10s/epoch - 31ms/step\n",
      "Epoch 45/70\n",
      "335/335 - 10s - loss: 0.0793 - accuracy: 0.9805 - val_loss: 0.2617 - val_accuracy: 0.9280 - 10s/epoch - 31ms/step\n",
      "Epoch 46/70\n",
      "335/335 - 10s - loss: 0.0641 - accuracy: 0.9850 - val_loss: 0.3002 - val_accuracy: 0.9290 - 10s/epoch - 31ms/step\n",
      "Epoch 47/70\n",
      "335/335 - 10s - loss: 0.0590 - accuracy: 0.9870 - val_loss: 0.3409 - val_accuracy: 0.9264 - 10s/epoch - 31ms/step\n",
      "Epoch 48/70\n",
      "335/335 - 10s - loss: 0.0574 - accuracy: 0.9874 - val_loss: 0.2952 - val_accuracy: 0.9267 - 10s/epoch - 31ms/step\n",
      "Epoch 49/70\n",
      "335/335 - 10s - loss: 0.0567 - accuracy: 0.9877 - val_loss: 0.2805 - val_accuracy: 0.9280 - 10s/epoch - 31ms/step\n",
      "Epoch 50/70\n",
      "335/335 - 10s - loss: 0.0570 - accuracy: 0.9874 - val_loss: 0.2673 - val_accuracy: 0.9287 - 10s/epoch - 31ms/step\n",
      "Epoch 51/70\n",
      "335/335 - 10s - loss: 0.0526 - accuracy: 0.9891 - val_loss: 0.3271 - val_accuracy: 0.9260 - 10s/epoch - 31ms/step\n",
      "Epoch 52/70\n",
      "335/335 - 10s - loss: 0.0542 - accuracy: 0.9884 - val_loss: 0.3067 - val_accuracy: 0.9264 - 10s/epoch - 31ms/step\n",
      "Epoch 53/70\n",
      "335/335 - 10s - loss: 0.0513 - accuracy: 0.9892 - val_loss: 0.3255 - val_accuracy: 0.9287 - 10s/epoch - 31ms/step\n",
      "Epoch 54/70\n",
      "335/335 - 10s - loss: 0.0529 - accuracy: 0.9884 - val_loss: 0.3086 - val_accuracy: 0.9274 - 10s/epoch - 31ms/step\n",
      "Epoch 55/70\n",
      "335/335 - 10s - loss: 0.0494 - accuracy: 0.9896 - val_loss: 0.3528 - val_accuracy: 0.9280 - 10s/epoch - 31ms/step\n",
      "Epoch 56/70\n",
      "335/335 - 10s - loss: 0.0509 - accuracy: 0.9887 - val_loss: 0.3041 - val_accuracy: 0.9310 - 10s/epoch - 31ms/step\n",
      "Epoch 57/70\n",
      "335/335 - 10s - loss: 0.0492 - accuracy: 0.9897 - val_loss: 0.3387 - val_accuracy: 0.9284 - 10s/epoch - 31ms/step\n",
      "Epoch 58/70\n",
      "335/335 - 10s - loss: 0.0480 - accuracy: 0.9899 - val_loss: 0.3608 - val_accuracy: 0.9284 - 10s/epoch - 31ms/step\n",
      "Epoch 59/70\n",
      "335/335 - 10s - loss: 0.0467 - accuracy: 0.9897 - val_loss: 0.3719 - val_accuracy: 0.9280 - 10s/epoch - 31ms/step\n",
      "Epoch 60/70\n",
      "335/335 - 10s - loss: 0.0483 - accuracy: 0.9897 - val_loss: 0.3914 - val_accuracy: 0.9274 - 10s/epoch - 31ms/step\n",
      "Epoch 61/70\n",
      "335/335 - 10s - loss: 0.0479 - accuracy: 0.9900 - val_loss: 0.3261 - val_accuracy: 0.9270 - 10s/epoch - 31ms/step\n",
      "Epoch 62/70\n",
      "335/335 - 10s - loss: 0.0481 - accuracy: 0.9900 - val_loss: 0.3557 - val_accuracy: 0.9270 - 10s/epoch - 31ms/step\n",
      "Epoch 63/70\n",
      "335/335 - 10s - loss: 0.0519 - accuracy: 0.9892 - val_loss: 0.2759 - val_accuracy: 0.9254 - 10s/epoch - 30ms/step\n",
      "Epoch 64/70\n",
      "335/335 - 10s - loss: 0.0476 - accuracy: 0.9902 - val_loss: 0.3098 - val_accuracy: 0.9267 - 10s/epoch - 30ms/step\n",
      "Epoch 65/70\n",
      "335/335 - 10s - loss: 0.0478 - accuracy: 0.9896 - val_loss: 0.2983 - val_accuracy: 0.9244 - 10s/epoch - 31ms/step\n",
      "Epoch 66/70\n"
     ]
    },
    {
     "name": "stdout",
     "output_type": "stream",
     "text": [
      "335/335 - 10s - loss: 0.0469 - accuracy: 0.9906 - val_loss: 0.3156 - val_accuracy: 0.9290 - 10s/epoch - 30ms/step\n",
      "Epoch 67/70\n",
      "335/335 - 10s - loss: 0.0472 - accuracy: 0.9905 - val_loss: 0.3287 - val_accuracy: 0.9280 - 10s/epoch - 30ms/step\n",
      "Epoch 68/70\n",
      "335/335 - 10s - loss: 0.0467 - accuracy: 0.9905 - val_loss: 0.3354 - val_accuracy: 0.9284 - 10s/epoch - 30ms/step\n",
      "Epoch 69/70\n",
      "335/335 - 10s - loss: 0.0447 - accuracy: 0.9907 - val_loss: 0.3297 - val_accuracy: 0.9260 - 10s/epoch - 30ms/step\n",
      "Epoch 70/70\n",
      "335/335 - 10s - loss: 0.0458 - accuracy: 0.9905 - val_loss: 0.3355 - val_accuracy: 0.9290 - 10s/epoch - 31ms/step\n"
     ]
    }
   ],
   "source": [
    "## Model training \n",
    "\n",
    "## Validation data parameter = tuple, automatically uses validation dataset to do fine tuning during training\n",
    "## Shuffle data after each epoch to help with overfitting\n",
    "training = model.fit(train_padded_ros, train_labels_ros, epochs=70, validation_data=(val_padded, val_labels), verbose=2, shuffle=True)"
   ]
  },
  {
   "cell_type": "code",
   "execution_count": 156,
   "id": "ef485373",
   "metadata": {},
   "outputs": [
    {
     "name": "stdout",
     "output_type": "stream",
     "text": [
      "220/220 [==============================] - 2s 9ms/step\n",
      "95/95 [==============================] - 1s 9ms/step\n",
      "95/95 [==============================] - 1s 9ms/step\n"
     ]
    }
   ],
   "source": [
    "## Predictions\n",
    "## As sigmoid function used has to be converted to a label representing 0 or 1 \n",
    "predictions = model.predict(train_padded)\n",
    "## If prediction output probability is higher than 0.5 = 1 if not 0\n",
    "predictions = [1 if p > 0.5 else 0 for p in predictions]\n",
    "\n",
    "y_pred = (model.predict(val_padded).ravel()>0.5)+0 \n",
    "y_predict_prob = model.predict(val_padded)\n",
    "predict_classes=np.argmax(y_predict_prob,axis=1)"
   ]
  },
  {
   "cell_type": "code",
   "execution_count": 157,
   "id": "2bcbe472",
   "metadata": {},
   "outputs": [
    {
     "name": "stdout",
     "output_type": "stream",
     "text": [
      "['journal epidemiology community health 2007 617 571574 dahlberg l bambra c demack age gender informal carers populationbased study uk'\n",
      " 'education training'\n",
      " 'use whole genome data investigate contrasting role vertical horizontal inheritance including gene endosymbiotic origin shaping eukaryotic genome'\n",
      " 'mres module mmb8016 molecular microbiology'\n",
      " 'july 1999 paper entitled family policy reconstructing fatherhood law society association annual meeting'\n",
      " 'emerald publishing limited 2022 laing k todd l using collaborative theory change approach evaluating outofschool learning'\n",
      " 'group identifying predictor dementia parkinson disease supported programme grant parkinson uk identify people parkinson disease high risk incident dementia iciclepd'\n",
      " 'sage 2010 pain r panelli r little j kindon moment everydaydistant geopolitics young people fear hope'\n",
      " 'home u'\n",
      " 'journal membrane science 2020 600 117855 kousi k neagu bekris l papaioannou ei metcalfe endogenous nanoparticles strain perovskite host lattice providing oxygen capacity driving oxygen exchange ch4 conversion syngas']\n",
      "[1 0 0 0 0 1 0 1 0 1]\n",
      "[1, 0, 0, 0, 0, 1, 0, 1, 0, 1]\n"
     ]
    }
   ],
   "source": [
    "## Sample of sentences, their actual labels and predicted labels \n",
    "print(train_sentences[1500:1510])\n",
    "\n",
    "print(train_labels[1500:1510])\n",
    "print(predictions[1500:1510])"
   ]
  },
  {
   "cell_type": "code",
   "execution_count": 158,
   "id": "12f23300",
   "metadata": {},
   "outputs": [
    {
     "data": {
      "image/png": "[encoded data removed]",
      "text/plain": [
       "<Figure size 432x288 with 4 Axes>"
      ]
     },
     "metadata": {
      "needs_background": "light"
     },
     "output_type": "display_data"
    }
   ],
   "source": [
    "##      Visualisation of LSTM epochs in training and test data\n",
    "##      https://towardsdatascience.com/text-classification-with-nlp-tf-idf-vs-word2vec-vs-bert-41ff868d1794\n",
    "##      Original author - Mauro Di Pietro\n",
    "##      Modifying author - Caitlin Brown\n",
    "##      Date modified: 27/07/2022\n",
    "\n",
    "## encode y\n",
    "dic_y_mapping = {n:label for n,label in \n",
    "                 enumerate(np.unique(train_labels))}\n",
    "inverse_dic = {v:k for k,v in dic_y_mapping.items()}\n",
    "y_train = np.array([inverse_dic[y] for y in train_labels])\n",
    "\n",
    "\n",
    "## plot loss and accuracy\n",
    "metrics = [k for k in training.history.keys() if (\"loss\" not in k) and (\"val\" not in k)]\n",
    "fig, ax = plt.subplots(nrows=1, ncols=2, sharey=True)\n",
    "\n",
    "ax[0].set(title=\"Training\")\n",
    "ax11 = ax[0].twinx()\n",
    "ax[0].plot(training.history['loss'], color='black')\n",
    "ax[0].set_xlabel('Epochs')\n",
    "ax[0].set_ylabel('Loss', color='black')\n",
    "for metric in metrics:\n",
    "    ax11.plot(training.history[metric], label=metric)\n",
    "ax11.set_ylabel(\"Score\", color='steelblue')\n",
    "ax11.legend()\n",
    "\n",
    "ax[1].set(title=\"Validation\")\n",
    "ax22 = ax[1].twinx()\n",
    "ax[1].plot(training.history['val_loss'], color='black')\n",
    "ax[1].set_xlabel('Epochs')\n",
    "ax[1].set_ylabel('Loss', color='black')\n",
    "for metric in metrics:\n",
    "     ax22.plot(training.history['val_'+metric], label=metric)\n",
    "ax22.set_ylabel(\"Score\", color=\"steelblue\")\n",
    "plt.show()"
   ]
  },
  {
   "cell_type": "code",
   "execution_count": 159,
   "id": "ecc1bb5b",
   "metadata": {},
   "outputs": [
    {
     "name": "stdout",
     "output_type": "stream",
     "text": [
      "Accuracy: 0.93\n",
      "Detail:\n",
      "              precision    recall  f1-score   support\n",
      "\n",
      "           0       0.84      0.88      0.86       751\n",
      "           1       0.96      0.95      0.95      2264\n",
      "\n",
      "    accuracy                           0.93      3015\n",
      "   macro avg       0.90      0.91      0.91      3015\n",
      "weighted avg       0.93      0.93      0.93      3015\n",
      "\n"
     ]
    },
    {
     "data": {
      "image/png": "[encoded data removed]",
      "text/plain": [
       "<Figure size 432x288 with 1 Axes>"
      ]
     },
     "metadata": {
      "needs_background": "light"
     },
     "output_type": "display_data"
    },
    {
     "data": {
      "image/png": "[encoded data removed]",
      "text/plain": [
       "<Figure size 432x288 with 2 Axes>"
      ]
     },
     "metadata": {
      "needs_background": "light"
     },
     "output_type": "display_data"
    }
   ],
   "source": [
    "##      Visualisations of evaluation metrics\n",
    "##      https://towardsdatascience.com/text-classification-with-nlp-tf-idf-vs-word2vec-vs-bert-41ff868d1794\n",
    "##      Original author - Mauro Di Pietro\n",
    "##      Modifying author - Caitlin Brown\n",
    "##      Date modified: 27/07/2022\n",
    "\n",
    "from  sklearn.metrics  import classification_report\n",
    "from sklearn.metrics import confusion_matrix\n",
    "from  sklearn.metrics  import roc_curve\n",
    "from  sklearn.metrics  import auc\n",
    "from  sklearn.metrics  import precision_recall_curve\n",
    "\n",
    "classes = np.unique(val_labels)\n",
    "y_test_array = pd.get_dummies(val_labels, drop_first=False).values\n",
    "\n",
    "## Accuracy, Precision, Recall\n",
    "accuracy = accuracy_score(val_labels, y_pred)\n",
    "print(\"Accuracy:\",  round(accuracy,2))\n",
    "print(\"Detail:\")\n",
    "print(classification_report(val_labels, y_pred))\n",
    "    \n",
    "## Plot confusion matrix\n",
    "cm = confusion_matrix(val_labels, y_pred)\n",
    "fig, ax = plt.subplots()\n",
    "sns.heatmap(cm, annot=True, fmt='d', ax=ax, cmap=plt.cm.Blues, \n",
    "            cbar=False)\n",
    "ax.set(xlabel=\"Pred\", ylabel=\"True\", xticklabels=classes, \n",
    "       yticklabels=classes, title=\"Confusion matrix\")\n",
    "plt.yticks(rotation=0)\n",
    "fig, ax = plt.subplots(nrows=1, ncols=2)\n",
    "\n",
    "## Plot roc\n",
    "# for i in range(len(classes)):\n",
    "fpr, tpr, thresholds = roc_curve(y_test_array[::,1],  \n",
    "                        y_predict_prob[:])\n",
    "ax[0].plot(fpr, tpr, lw=3, \n",
    "              label='{0} (area={1:0.2f})'.format(classes[:], \n",
    "                            auc(fpr, tpr))\n",
    "            )\n",
    "ax[0].plot([0,1], [0,1], color='navy', lw=3, linestyle='--')\n",
    "ax[0].set(xlim=[-0.05,1.0], ylim=[0.0,1.05], \n",
    "          xlabel='False Positive Rate', \n",
    "          ylabel=\"True Positive Rate (Recall)\", \n",
    "          title=\"Receiver operating characteristic\")\n",
    "ax[0].legend(loc=\"lower right\")\n",
    "ax[0].grid(True)\n",
    "    \n",
    "## Plot precision-recall curve\n",
    "# for i in range(len(classes)):\n",
    "precision, recall, thresholds = precision_recall_curve(\n",
    "            y_test_array[::,1], y_predict_prob[:])\n",
    "ax[1].plot(recall, precision, lw=3, \n",
    "            label='{0} (area={1:0.2f})'.format(classes[:], \n",
    "                                auc(recall, precision))\n",
    "            )\n",
    "ax[1].set(xlim=[0.0,1.05], ylim=[0.0,1.05], xlabel='Recall', \n",
    "          ylabel=\"Precision\", title=\"Precision-Recall curve\")\n",
    "ax[1].legend(loc=\"best\")\n",
    "ax[1].grid(True)\n",
    "plt.show()"
   ]
  }
 ],
 "metadata": {
  "kernelspec": {
   "display_name": "Python 3 (ipykernel)",
   "language": "python",
   "name": "python3"
  },
  "language_info": {
   "codemirror_mode": {
    "name": "ipython",
    "version": 3
   },
   "file_extension": ".py",
   "mimetype": "text/x-python",
   "name": "python",
   "nbconvert_exporter": "python",
   "pygments_lexer": "ipython3",
   "version": "3.9.12"
  }
 },
 "nbformat": 4,
 "nbformat_minor": 5
}
